{
 "cells": [
  {
   "cell_type": "code",
   "execution_count": 2,
   "metadata": {},
   "outputs": [],
   "source": [
    "#select random images for test for each class and remove them from train, so that they are never seen by our models\n",
    "import os,glob,random,shutil\n",
    "\n",
    "train_path=\"C:/Data/Study/AI/AI_Projects/Auto_Damage_Detector/data/cardamage/train\"\n",
    "test_path = \"C:/Data/Study/AI/AI_Projects/Auto_Damage_Detector/data/cardamage/test\"\n",
    "folders = os.walk(train_path)\n",
    "next(folders)\n",
    "for subdir, dirs, files in folders:\n",
    "    dir_name = subdir.split('/')[-1]\n",
    "    file_path_type = subdir+\"/*.jpeg\"\n",
    "    testimages = random.sample(glob.glob(file_path_type), 10)\n",
    "    for f in enumerate(testimages, 1):\n",
    "        dest = os.path.join(test_path+dir_name)\n",
    "        if not os.path.exists(dest):\n",
    "            os.makedirs(dest)\n",
    "        shutil.move(f[1], dest)"
   ]
  }
 ],
 "metadata": {
  "kernelspec": {
   "display_name": "autodamagedet",
   "language": "python",
   "name": "python3"
  },
  "language_info": {
   "codemirror_mode": {
    "name": "ipython",
    "version": 3
   },
   "file_extension": ".py",
   "mimetype": "text/x-python",
   "name": "python",
   "nbconvert_exporter": "python",
   "pygments_lexer": "ipython3",
   "version": "3.9.18"
  },
  "orig_nbformat": 4
 },
 "nbformat": 4,
 "nbformat_minor": 2
}
