{
 "cells": [
  {
   "cell_type": "code",
   "execution_count": 1,
   "metadata": {},
   "outputs": [
    {
     "ename": "ValueError",
     "evalue": "Sample larger than population or is negative",
     "output_type": "error",
     "traceback": [
      "\u001b[1;31m---------------------------------------------------------------------------\u001b[0m",
      "\u001b[1;31mValueError\u001b[0m                                Traceback (most recent call last)",
      "\u001b[1;32mc:\\Data\\Study\\AI\\AI_Projects\\Auto_Damage_Detector\\notebook\\separate_out_test.ipynb Cell 1\u001b[0m line \u001b[0;36m1\n\u001b[0;32m      <a href='vscode-notebook-cell:/c%3A/Data/Study/AI/AI_Projects/Auto_Damage_Detector/notebook/separate_out_test.ipynb#W0sZmlsZQ%3D%3D?line=8'>9</a>\u001b[0m dir_name \u001b[39m=\u001b[39m subdir\u001b[39m.\u001b[39msplit(\u001b[39m'\u001b[39m\u001b[39m/\u001b[39m\u001b[39m'\u001b[39m)[\u001b[39m-\u001b[39m\u001b[39m1\u001b[39m]\n\u001b[0;32m     <a href='vscode-notebook-cell:/c%3A/Data/Study/AI/AI_Projects/Auto_Damage_Detector/notebook/separate_out_test.ipynb#W0sZmlsZQ%3D%3D?line=9'>10</a>\u001b[0m file_path_type \u001b[39m=\u001b[39m subdir\u001b[39m+\u001b[39m\u001b[39m\"\u001b[39m\u001b[39m/*.png\u001b[39m\u001b[39m\"\u001b[39m\n\u001b[1;32m---> <a href='vscode-notebook-cell:/c%3A/Data/Study/AI/AI_Projects/Auto_Damage_Detector/notebook/separate_out_test.ipynb#W0sZmlsZQ%3D%3D?line=10'>11</a>\u001b[0m testimages \u001b[39m=\u001b[39m random\u001b[39m.\u001b[39;49msample(glob\u001b[39m.\u001b[39;49mglob(file_path_type), \u001b[39m10\u001b[39;49m)\n\u001b[0;32m     <a href='vscode-notebook-cell:/c%3A/Data/Study/AI/AI_Projects/Auto_Damage_Detector/notebook/separate_out_test.ipynb#W0sZmlsZQ%3D%3D?line=11'>12</a>\u001b[0m \u001b[39mfor\u001b[39;00m f \u001b[39min\u001b[39;00m \u001b[39menumerate\u001b[39m(testimages, \u001b[39m1\u001b[39m):\n\u001b[0;32m     <a href='vscode-notebook-cell:/c%3A/Data/Study/AI/AI_Projects/Auto_Damage_Detector/notebook/separate_out_test.ipynb#W0sZmlsZQ%3D%3D?line=12'>13</a>\u001b[0m     dest \u001b[39m=\u001b[39m os\u001b[39m.\u001b[39mpath\u001b[39m.\u001b[39mjoin(test_path\u001b[39m+\u001b[39mdir_name)\n",
      "File \u001b[1;32mc:\\Users\\fhash\\anaconda3\\envs\\autodamagedet\\lib\\random.py:449\u001b[0m, in \u001b[0;36mRandom.sample\u001b[1;34m(self, population, k, counts)\u001b[0m\n\u001b[0;32m    447\u001b[0m randbelow \u001b[39m=\u001b[39m \u001b[39mself\u001b[39m\u001b[39m.\u001b[39m_randbelow\n\u001b[0;32m    448\u001b[0m \u001b[39mif\u001b[39;00m \u001b[39mnot\u001b[39;00m \u001b[39m0\u001b[39m \u001b[39m<\u001b[39m\u001b[39m=\u001b[39m k \u001b[39m<\u001b[39m\u001b[39m=\u001b[39m n:\n\u001b[1;32m--> 449\u001b[0m     \u001b[39mraise\u001b[39;00m \u001b[39mValueError\u001b[39;00m(\u001b[39m\"\u001b[39m\u001b[39mSample larger than population or is negative\u001b[39m\u001b[39m\"\u001b[39m)\n\u001b[0;32m    450\u001b[0m result \u001b[39m=\u001b[39m [\u001b[39mNone\u001b[39;00m] \u001b[39m*\u001b[39m k\n\u001b[0;32m    451\u001b[0m setsize \u001b[39m=\u001b[39m \u001b[39m21\u001b[39m        \u001b[39m# size of a small set minus size of an empty list\u001b[39;00m\n",
      "\u001b[1;31mValueError\u001b[0m: Sample larger than population or is negative"
     ]
    }
   ],
   "source": [
    "#select random images for test for each class and remove them from train, so that they are never seen by our models\n",
    "import os,glob,random,shutil\n",
    "\n",
    "train_path=\"C:/Data/Study/AI/AI_Projects/Auto_Damage_Detector/data/cardamage/train\"\n",
    "test_path = \"C:/Data/Study/AI/AI_Projects/Auto_Damage_Detector/data/cardamage/test\"\n",
    "folders = os.walk(train_path)\n",
    "next(folders)\n",
    "for subdir, dirs, files in folders:\n",
    "    dir_name = subdir.split('/')[-1]\n",
    "    file_path_type = subdir+\"/*.jpeg\"\n",
    "    testimages = random.sample(glob.glob(file_path_type), 10)\n",
    "    for f in enumerate(testimages, 1):\n",
    "        dest = os.path.join(test_path+dir_name)\n",
    "        if not os.path.exists(dest):\n",
    "            os.makedirs(dest)\n",
    "        shutil.move(f[1], dest)"
   ]
  }
 ],
 "metadata": {
  "kernelspec": {
   "display_name": "autodamagedet",
   "language": "python",
   "name": "python3"
  },
  "language_info": {
   "codemirror_mode": {
    "name": "ipython",
    "version": 3
   },
   "file_extension": ".py",
   "mimetype": "text/x-python",
   "name": "python",
   "nbconvert_exporter": "python",
   "pygments_lexer": "ipython3",
   "version": "3.9.18"
  },
  "orig_nbformat": 4
 },
 "nbformat": 4,
 "nbformat_minor": 2
}
