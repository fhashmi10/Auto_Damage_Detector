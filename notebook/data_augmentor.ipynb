{
 "cells": [
  {
   "cell_type": "code",
   "execution_count": 2,
   "metadata": {},
   "outputs": [],
   "source": [
    "import Augmentor\n",
    "import os, shutil\n",
    "from PIL import Image\n",
    "import matplotlib.pyplot as plt"
   ]
  },
  {
   "cell_type": "code",
   "execution_count": 6,
   "metadata": {},
   "outputs": [],
   "source": [
    "def get_class_names(folder_path):\n",
    "    class_names=[]\n",
    "    folders = os.walk(folder_path)\n",
    "    next(folders)\n",
    "    for subdir, dirs, files in folders:\n",
    "        class_names.append(subdir.split('/')[-1])\n",
    "    return class_names\n",
    "    \n",
    "def geometric_augmentor(folder_path, sample_count=1000):\n",
    "    class_names = get_class_names(folder_path)\n",
    "    for i in class_names:\n",
    "        class_path = folder_path + i\n",
    "        p = Augmentor.Pipeline(class_path)\n",
    "        p.rotate(probability=0.3, max_left_rotation=20, max_right_rotation=20)\n",
    "        p.flip_left_right(probability=0.2)\n",
    "        p.skew(probability=0.2)\n",
    "        p.crop_centre(probability=0.3, percentage_area=0.7)\n",
    "        curr_img_count = len([name for name in os.listdir(class_path) if os.path.isfile(os.path.join(class_path, name))])\n",
    "        req_aug_count = sample_count-curr_img_count\n",
    "        p.sample(req_aug_count)\n",
    "\n",
    "def move_files(source_dir, target_dir):\n",
    "    folders = os.walk(source_dir)\n",
    "    for subdir, dirs, files in folders:\n",
    "        for file_name in files:\n",
    "            shutil.move(os.path.join(source_dir, file_name), target_dir)\n",
    "    \n",
    "def move_output_folder(folder_path, class_names):\n",
    "    #Move original and augmented images to one folder\n",
    "    for i in class_names:\n",
    "        target_dir = folder_path + i + '/'\n",
    "        source_dir = folder_path + i + '/output/'\n",
    "        move_files(source_dir, target_dir)\n",
    "        os.rmdir(source_dir)\n",
    "\n",
    "#Resize all images\n",
    "def resize(path, size):\n",
    "    dirs = os.listdir(path)\n",
    "    for item in dirs:\n",
    "        if os.path.isfile(path+item):\n",
    "            im = Image.open(path+item)\n",
    "            f, e = os.path.splitext(path+item)\n",
    "            imResize = im.resize((size,size))\n",
    "            imResize.save(f + '.jpeg', 'JPEG', quality=90)"
   ]
  },
  {
   "cell_type": "code",
   "execution_count": 7,
   "metadata": {},
   "outputs": [
    {
     "name": "stdout",
     "output_type": "stream",
     "text": [
      "Initialised with 119 image(s) found.\n",
      "Output directory set to C:/Data/Study/AI/AI_Projects/Auto_Damage_Detector/data/cardamage/train/bumper_dent\\output."
     ]
    },
    {
     "name": "stderr",
     "output_type": "stream",
     "text": [
      "Processing <PIL.Image.Image image mode=RGB size=268x268 at 0x2756E9E42B0>: 100%|██████████| 881/881 [00:02<00:00, 321.29 Samples/s]                  \n"
     ]
    },
    {
     "name": "stdout",
     "output_type": "stream",
     "text": [
      "Initialised with 72 image(s) found.\n",
      "Output directory set to C:/Data/Study/AI/AI_Projects/Auto_Damage_Detector/data/cardamage/train/bumper_scratch\\output."
     ]
    },
    {
     "name": "stderr",
     "output_type": "stream",
     "text": [
      "Processing <PIL.JpegImagePlugin.JpegImageFile image mode=RGB size=384x384 at 0x2756E95AF40>: 100%|██████████| 928/928 [00:02<00:00, 322.92 Samples/s]\n"
     ]
    },
    {
     "name": "stdout",
     "output_type": "stream",
     "text": [
      "Initialised with 182 image(s) found.\n",
      "Output directory set to C:/Data/Study/AI/AI_Projects/Auto_Damage_Detector/data/cardamage/train/door_dent\\output."
     ]
    },
    {
     "name": "stderr",
     "output_type": "stream",
     "text": [
      "Processing <PIL.JpegImagePlugin.JpegImageFile image mode=RGB size=384x384 at 0x2756E9E47C0>: 100%|██████████| 818/818 [00:02<00:00, 303.36 Samples/s]\n"
     ]
    },
    {
     "name": "stdout",
     "output_type": "stream",
     "text": [
      "Initialised with 144 image(s) found.\n",
      "Output directory set to C:/Data/Study/AI/AI_Projects/Auto_Damage_Detector/data/cardamage/train/door_scratch\\output."
     ]
    },
    {
     "name": "stderr",
     "output_type": "stream",
     "text": [
      "Processing <PIL.Image.Image image mode=RGB size=384x384 at 0x2756E918610>: 100%|██████████| 856/856 [00:02<00:00, 336.47 Samples/s]                  \n"
     ]
    },
    {
     "name": "stdout",
     "output_type": "stream",
     "text": [
      "Initialised with 127 image(s) found.\n",
      "Output directory set to C:/Data/Study/AI/AI_Projects/Auto_Damage_Detector/data/cardamage/train/glass_shatter\\output."
     ]
    },
    {
     "name": "stderr",
     "output_type": "stream",
     "text": [
      "Processing <PIL.JpegImagePlugin.JpegImageFile image mode=RGB size=384x384 at 0x2756E93E670>: 100%|██████████| 873/873 [00:03<00:00, 268.83 Samples/s]\n"
     ]
    },
    {
     "name": "stdout",
     "output_type": "stream",
     "text": [
      "Initialised with 124 image(s) found.\n",
      "Output directory set to C:/Data/Study/AI/AI_Projects/Auto_Damage_Detector/data/cardamage/train/head_lamp\\output."
     ]
    },
    {
     "name": "stderr",
     "output_type": "stream",
     "text": [
      "Processing <PIL.Image.Image image mode=RGB size=268x268 at 0x2756E9A57C0>: 100%|██████████| 876/876 [00:03<00:00, 273.58 Samples/s]                  \n"
     ]
    },
    {
     "name": "stdout",
     "output_type": "stream",
     "text": [
      "Initialised with 126 image(s) found.\n",
      "Output directory set to C:/Data/Study/AI/AI_Projects/Auto_Damage_Detector/data/cardamage/train/tail_lamp\\output."
     ]
    },
    {
     "name": "stderr",
     "output_type": "stream",
     "text": [
      "Processing <PIL.Image.Image image mode=RGB size=384x384 at 0x2756B8177C0>: 100%|██████████| 874/874 [00:03<00:00, 239.68 Samples/s]                  \n"
     ]
    },
    {
     "name": "stdout",
     "output_type": "stream",
     "text": [
      "Initialised with 196 image(s) found.\n",
      "Output directory set to C:/Data/Study/AI/AI_Projects/Auto_Damage_Detector/data/cardamage/train/totaled\\output."
     ]
    },
    {
     "name": "stderr",
     "output_type": "stream",
     "text": [
      "Processing <PIL.Image.Image image mode=RGB size=384x384 at 0x2756E95B5B0>: 100%|██████████| 804/804 [00:03<00:00, 265.58 Samples/s]                  \n"
     ]
    },
    {
     "name": "stdout",
     "output_type": "stream",
     "text": [
      "Initialised with 332 image(s) found.\n",
      "Output directory set to C:/Data/Study/AI/AI_Projects/Auto_Damage_Detector/data/cardamage/train/undamaged\\output."
     ]
    },
    {
     "name": "stderr",
     "output_type": "stream",
     "text": [
      "Processing <PIL.Image.Image image mode=RGB size=384x384 at 0x2756B8173A0>: 100%|██████████| 668/668 [00:02<00:00, 306.35 Samples/s]                  \n"
     ]
    }
   ],
   "source": [
    "\n",
    "folder_path=\"C:/Data/Study/AI/AI_Projects/Auto_Damage_Detector/data/cardamage/train/\"\n",
    "class_names = get_class_names(folder_path)\n",
    "for i in class_names:\n",
    "    resize(folder_path+i+'/',384)\n",
    "\n",
    "geometric_augmentor(folder_path)\n",
    "move_output_folder(folder_path, class_names)\n"
   ]
  },
  {
   "cell_type": "code",
   "execution_count": 8,
   "metadata": {},
   "outputs": [
    {
     "name": "stdout",
     "output_type": "stream",
     "text": [
      "Initialised with 10 image(s) found.\n",
      "Output directory set to C:/Data/Study/AI/AI_Projects/Auto_Damage_Detector/data/cardamage/test/bumper_dent\\output."
     ]
    },
    {
     "name": "stderr",
     "output_type": "stream",
     "text": [
      "Processing <PIL.Image.Image image mode=RGB size=268x268 at 0x2756E9C9760>: 100%|██████████| 90/90 [00:00<00:00, 303.79 Samples/s]                 \n"
     ]
    },
    {
     "name": "stdout",
     "output_type": "stream",
     "text": [
      "Initialised with 10 image(s) found.\n",
      "Output directory set to C:/Data/Study/AI/AI_Projects/Auto_Damage_Detector/data/cardamage/test/bumper_scratch\\output."
     ]
    },
    {
     "name": "stderr",
     "output_type": "stream",
     "text": [
      "Processing <PIL.Image.Image image mode=RGB size=268x268 at 0x27552F8BEE0>: 100%|██████████| 90/90 [00:00<00:00, 313.65 Samples/s]                  \n"
     ]
    },
    {
     "name": "stdout",
     "output_type": "stream",
     "text": [
      "Initialised with 10 image(s) found.\n",
      "Output directory set to C:/Data/Study/AI/AI_Projects/Auto_Damage_Detector/data/cardamage/test/door_dent\\output."
     ]
    },
    {
     "name": "stderr",
     "output_type": "stream",
     "text": [
      "Processing <PIL.Image.Image image mode=RGB size=268x268 at 0x2756E95A220>: 100%|██████████| 90/90 [00:00<00:00, 340.66 Samples/s]                  \n"
     ]
    },
    {
     "name": "stdout",
     "output_type": "stream",
     "text": [
      "Initialised with 10 image(s) found.\n",
      "Output directory set to C:/Data/Study/AI/AI_Projects/Auto_Damage_Detector/data/cardamage/test/door_scratch\\output."
     ]
    },
    {
     "name": "stderr",
     "output_type": "stream",
     "text": [
      "Processing <PIL.Image.Image image mode=RGB size=268x268 at 0x2756E942520>: 100%|██████████| 90/90 [00:00<00:00, 337.52 Samples/s]                  \n"
     ]
    },
    {
     "name": "stdout",
     "output_type": "stream",
     "text": [
      "Initialised with 10 image(s) found.\n",
      "Output directory set to C:/Data/Study/AI/AI_Projects/Auto_Damage_Detector/data/cardamage/test/glass_shatter\\output."
     ]
    },
    {
     "name": "stderr",
     "output_type": "stream",
     "text": [
      "Processing <PIL.Image.Image image mode=RGB size=268x268 at 0x2756E9C93A0>: 100%|██████████| 90/90 [00:00<00:00, 276.44 Samples/s]                  \n"
     ]
    },
    {
     "name": "stdout",
     "output_type": "stream",
     "text": [
      "Initialised with 10 image(s) found.\n",
      "Output directory set to C:/Data/Study/AI/AI_Projects/Auto_Damage_Detector/data/cardamage/test/head_lamp\\output."
     ]
    },
    {
     "name": "stderr",
     "output_type": "stream",
     "text": [
      "Processing <PIL.Image.Image image mode=RGB size=384x384 at 0x2756E95A6D0>: 100%|██████████| 90/90 [00:00<00:00, 290.40 Samples/s]                  \n"
     ]
    },
    {
     "name": "stdout",
     "output_type": "stream",
     "text": [
      "Initialised with 10 image(s) found.\n",
      "Output directory set to C:/Data/Study/AI/AI_Projects/Auto_Damage_Detector/data/cardamage/test/tail_lamp\\output."
     ]
    },
    {
     "name": "stderr",
     "output_type": "stream",
     "text": [
      "Processing <PIL.Image.Image image mode=RGB size=384x384 at 0x2756E9DA430>: 100%|██████████| 90/90 [00:00<00:00, 336.25 Samples/s]                  \n"
     ]
    },
    {
     "name": "stdout",
     "output_type": "stream",
     "text": [
      "Initialised with 10 image(s) found.\n",
      "Output directory set to C:/Data/Study/AI/AI_Projects/Auto_Damage_Detector/data/cardamage/test/totaled\\output."
     ]
    },
    {
     "name": "stderr",
     "output_type": "stream",
     "text": [
      "Processing <PIL.Image.Image image mode=RGB size=268x268 at 0x2756E9E4370>: 100%|██████████| 90/90 [00:00<00:00, 307.66 Samples/s]                  \n"
     ]
    },
    {
     "name": "stdout",
     "output_type": "stream",
     "text": [
      "Initialised with 10 image(s) found.\n",
      "Output directory set to C:/Data/Study/AI/AI_Projects/Auto_Damage_Detector/data/cardamage/test/undamaged\\output."
     ]
    },
    {
     "name": "stderr",
     "output_type": "stream",
     "text": [
      "Processing <PIL.JpegImagePlugin.JpegImageFile image mode=RGB size=384x384 at 0x2756E942580>: 100%|██████████| 90/90 [00:00<00:00, 258.41 Samples/s]\n"
     ]
    }
   ],
   "source": [
    "\n",
    "folder_path=\"C:/Data/Study/AI/AI_Projects/Auto_Damage_Detector/data/cardamage/test/\"\n",
    "class_names = get_class_names(folder_path)\n",
    "for i in class_names:\n",
    "    resize(folder_path+i+'/',384)\n",
    "\n",
    "geometric_augmentor(folder_path, 100)\n",
    "move_output_folder(folder_path, class_names)\n"
   ]
  },
  {
   "cell_type": "code",
   "execution_count": null,
   "metadata": {},
   "outputs": [],
   "source": []
  }
 ],
 "metadata": {
  "kernelspec": {
   "display_name": "autodamagedet",
   "language": "python",
   "name": "python3"
  },
  "language_info": {
   "codemirror_mode": {
    "name": "ipython",
    "version": 3
   },
   "file_extension": ".py",
   "mimetype": "text/x-python",
   "name": "python",
   "nbconvert_exporter": "python",
   "pygments_lexer": "ipython3",
   "version": "3.9.18"
  },
  "orig_nbformat": 4
 },
 "nbformat": 4,
 "nbformat_minor": 2
}
