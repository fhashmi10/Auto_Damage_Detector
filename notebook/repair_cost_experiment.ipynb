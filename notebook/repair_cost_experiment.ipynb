{
 "cells": [
  {
   "cell_type": "code",
   "execution_count": 1,
   "metadata": {},
   "outputs": [],
   "source": [
    "\n",
    "import pickle"
   ]
  },
  {
   "cell_type": "code",
   "execution_count": 2,
   "metadata": {},
   "outputs": [
    {
     "ename": "TypeError",
     "evalue": "Argument 'placement' has incorrect type (expected pandas._libs.internals.BlockPlacement, got slice)",
     "output_type": "error",
     "traceback": [
      "\u001b[1;31m---------------------------------------------------------------------------\u001b[0m",
      "\u001b[1;31mTypeError\u001b[0m                                 Traceback (most recent call last)",
      "\u001b[1;32mc:\\Data\\Study\\AI\\AI_Projects\\Auto_Damage_Detector\\notebook\\repair_cost_experiment.ipynb Cell 2\u001b[0m line \u001b[0;36m3\n\u001b[0;32m      <a href='vscode-notebook-cell:/c%3A/Data/Study/AI/AI_Projects/Auto_Damage_Detector/notebook/repair_cost_experiment.ipynb#W0sZmlsZQ%3D%3D?line=0'>1</a>\u001b[0m \u001b[39m#loading train damage dataset\u001b[39;00m\n\u001b[0;32m      <a href='vscode-notebook-cell:/c%3A/Data/Study/AI/AI_Projects/Auto_Damage_Detector/notebook/repair_cost_experiment.ipynb#W0sZmlsZQ%3D%3D?line=1'>2</a>\u001b[0m \u001b[39mwith\u001b[39;00m \u001b[39mopen\u001b[39m(\u001b[39m'\u001b[39m\u001b[39mrepair_cost_dataset\u001b[39m\u001b[39m'\u001b[39m, \u001b[39m'\u001b[39m\u001b[39mrb\u001b[39m\u001b[39m'\u001b[39m) \u001b[39mas\u001b[39;00m dataset:\n\u001b[1;32m----> <a href='vscode-notebook-cell:/c%3A/Data/Study/AI/AI_Projects/Auto_Damage_Detector/notebook/repair_cost_experiment.ipynb#W0sZmlsZQ%3D%3D?line=2'>3</a>\u001b[0m     repair_cost_dataset \u001b[39m=\u001b[39m pickle\u001b[39m.\u001b[39;49mload(dataset)\n",
      "File \u001b[1;32mc:\\Users\\fhash\\anaconda3\\envs\\autodamagedet\\lib\\site-packages\\pandas\\core\\internals\\blocks.py:2400\u001b[0m, in \u001b[0;36mnew_block\u001b[1;34m(values, placement, ndim, refs)\u001b[0m\n\u001b[0;32m   2388\u001b[0m \u001b[39mdef\u001b[39;00m \u001b[39mnew_block\u001b[39m(\n\u001b[0;32m   2389\u001b[0m     values,\n\u001b[0;32m   2390\u001b[0m     placement: BlockPlacement,\n\u001b[1;32m   (...)\u001b[0m\n\u001b[0;32m   2397\u001b[0m     \u001b[39m# - check_ndim/ensure_block_shape already checked\u001b[39;00m\n\u001b[0;32m   2398\u001b[0m     \u001b[39m# - maybe_coerce_values already called/unnecessary\u001b[39;00m\n\u001b[0;32m   2399\u001b[0m     klass \u001b[39m=\u001b[39m get_block_type(values\u001b[39m.\u001b[39mdtype)\n\u001b[1;32m-> 2400\u001b[0m     \u001b[39mreturn\u001b[39;00m klass(values, ndim\u001b[39m=\u001b[39;49mndim, placement\u001b[39m=\u001b[39;49mplacement, refs\u001b[39m=\u001b[39;49mrefs)\n",
      "\u001b[1;31mTypeError\u001b[0m: Argument 'placement' has incorrect type (expected pandas._libs.internals.BlockPlacement, got slice)"
     ]
    }
   ],
   "source": [
    "#loading train damage dataset\n",
    "with open('repair_cost_dataset', 'rb') as dataset:\n",
    "    repair_cost_dataset = pickle.load(dataset)"
   ]
  },
  {
   "cell_type": "code",
   "execution_count": null,
   "metadata": {},
   "outputs": [],
   "source": []
  }
 ],
 "metadata": {
  "kernelspec": {
   "display_name": "autodamagedet",
   "language": "python",
   "name": "python3"
  },
  "language_info": {
   "codemirror_mode": {
    "name": "ipython",
    "version": 3
   },
   "file_extension": ".py",
   "mimetype": "text/x-python",
   "name": "python",
   "nbconvert_exporter": "python",
   "pygments_lexer": "ipython3",
   "version": "3.9.18"
  }
 },
 "nbformat": 4,
 "nbformat_minor": 2
}
